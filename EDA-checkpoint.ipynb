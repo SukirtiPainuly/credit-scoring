{
 "cells": [
  {
   "cell_type": "code",
   "execution_count": null,
   "id": "bc05c015-92fd-4940-82c4-31c73677b8e1",
   "metadata": {},
   "outputs": [
    {
     "name": "stdout",
     "output_type": "stream",
     "text": [
      "Total records: 100000\n",
      "Sample record:\n",
      "\n",
      "{\n",
      "  \"_id\": {\n",
      "    \"$oid\": \"681d38fed63812d4655f571a\"\n",
      "  },\n",
      "  \"userWallet\": \"0x00000000001accfa9cef68cf5371a23025b6d4b6\",\n",
      "  \"network\": \"polygon\",\n",
      "  \"protocol\": \"aave_v2\",\n",
      "  \"txHash\": \"0x695c69acf608fbf5d38e48ca5535e118cc213a89e3d6d2e66e6b0e3b2e8d4190\",\n",
      "  \"logId\": \"0x695c69acf608fbf5d38e48ca5535e118cc213a89e3d6d2e66e6b0e3b2e8d4190_Deposit\",\n",
      "  \"timestamp\": 1629178166,\n",
      "  \"blockNumber\": 1629178166,\n",
      "  \"action\": \"deposit\",\n",
      "  \"actionData\": {\n",
      "    \"type\": \"Deposit\",\n",
      "    \"amount\": \"2000000000\",\n",
      "    \"assetSymbol\": \"USDC\",\n",
      "    \"assetPriceUSD\": \"0.9938318274296357543568636362026045\",\n",
      "    \"poolId\": \"0x2791bca1f2de4661ed88a30c99a7a9449aa84174\",\n",
      "    \"userId\": \"0x00000000001accfa9cef68cf5371a23025b6d4b6\"\n",
      "  },\n",
      "  \"__v\": 0,\n",
      "  \"createdAt\": {\n",
      "    \"$date\": \"2025-05-08T23:06:39.465Z\"\n",
      "  },\n",
      "  \"updatedAt\": {\n",
      "    \"$date\": \"2025-05-08T23:06:39.465Z\"\n",
      "  }\n",
      "}\n"
     ]
    }
   ],
   "source": [
    "import json\n",
    "import sys\n",
    "import os\n",
    "\n",
    "sys.path.append(r\"C:\\Users\\Suyash\\Desktop\\aave-credit-scoring\")\n",
    "\n",
    "json_path = r\"C:\\Users\\Suyash\\Desktop\\aave-credit-scoring\\data\\user-wallet-transactions.json\"\n",
    "with open(json_path, \"r\") as f:\n",
    "    data = json.load(f)\n",
    "\n",
    "print(\"Total records:\", len(data))\n",
    "print(\"Sample record:\\n\")\n",
    "print(json.dumps(data[0], indent=2))\n",
    "\n",
    "from scripts.features import load_transactions, extract_features\n",
    "from scripts.score import score_wallets\n",
    "\n",
    "data = load_transactions(json_path)\n",
    "features_df = extract_features(data)\n",
    "features_df = features_df.reset_index().rename(columns={\"index\": \"wallet\"})\n",
    "scored_df = score_wallets(features_df)\n",
    "\n",
    "\n",
    "scored_df.head()"
   ]
  },
  {
   "cell_type": "code",
   "execution_count": null,
   "id": "92e15993-0ab4-41e1-a8cb-b7c23e429683",
   "metadata": {},
   "outputs": [],
   "source": []
  },
  {
   "cell_type": "code",
   "execution_count": null,
   "id": "8dd93e1f-14ae-47e5-825e-e2bbc1e79f7a",
   "metadata": {},
   "outputs": [],
   "source": []
  }
 ],
 "metadata": {
  "kernelspec": {
   "display_name": "Python 3 (ipykernel)",
   "language": "python",
   "name": "python3"
  },
  "language_info": {
   "codemirror_mode": {
    "name": "ipython",
    "version": 3
   },
   "file_extension": ".py",
   "mimetype": "text/x-python",
   "name": "python",
   "nbconvert_exporter": "python",
   "pygments_lexer": "ipython3",
   "version": "3.12.4"
  }
 },
 "nbformat": 4,
 "nbformat_minor": 5
}
